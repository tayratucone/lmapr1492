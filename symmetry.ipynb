{
 "cells": [
  {
   "cell_type": "code",
   "execution_count": 82,
   "id": "typical-plenty",
   "metadata": {},
   "outputs": [],
   "source": [
    "from pymatgen.ext.matproj import MPRester\n",
    "from pymatgen import Structure\n",
    "from jupyter_jsmol import JsmolView\n",
    "from ipywidgets import Layout, widgets, interact\n",
    "from IPython.display import display"
   ]
  },
  {
   "cell_type": "code",
   "execution_count": 83,
   "id": "informational-german",
   "metadata": {},
   "outputs": [],
   "source": [
    "with MPRester(\"9doXlXcpRnJooJMv0rGAfHdHSagWYk4Q\") as m:\n",
    "\n",
    "    # Structure for material id\n",
    "    Na2Se = m.get_structure_by_material_id(\"mp-1266\")"
   ]
  },
  {
   "cell_type": "code",
   "execution_count": 86,
   "id": "ecological-sigma",
   "metadata": {},
   "outputs": [
    {
     "data": {
      "application/vnd.jupyter.widget-view+json": {
       "model_id": "0aec2e6ba26f409d8bab11da0c797613",
       "version_major": 2,
       "version_minor": 0
      },
      "text/plain": [
       "JsmolView(layout=Layout(align_self='stretch', height='400px'))"
      ]
     },
     "metadata": {},
     "output_type": "display_data"
    }
   ],
   "source": [
    "view = JsmolView(Na2Se)\n",
    "display(view)"
   ]
  },
  {
   "cell_type": "code",
   "execution_count": 87,
   "id": "acquired-nurse",
   "metadata": {},
   "outputs": [],
   "source": [
    "view.script('draw symop 2 {atomno=1}')"
   ]
  },
  {
   "cell_type": "markdown",
   "id": "studied-fireplace",
   "metadata": {},
   "source": [
    "la première symétrie a pour équation: x, y, z -> -x, -y, -z\n",
    "\n",
    "Cela a pour effet de changer les coordonnées de l'atome numéro 1 de ses coordonnées de bases (0.33333, 0.66667, 0.16667)  en de nouvelles coordonnées (-0.33333, -0.66667, -0.16667) (exprimées par rapport aux vecteurs de base du réseau direct).\n",
    "\n",
    "On peut voir que ce point est en dehors de la maille, l'atome est alors renvoyé dans la maille par translation à l'atome  numéro 2.\n",
    "\n",
    "Cette symétrie est une inversion de centre (0,0,0)."
   ]
  },
  {
   "cell_type": "code",
   "execution_count": 88,
   "id": "narrow-complaint",
   "metadata": {},
   "outputs": [],
   "source": [
    "view.script('draw symop 3 {atomno=2}')"
   ]
  },
  {
   "cell_type": "markdown",
   "id": "impossible-progressive",
   "metadata": {},
   "source": [
    "La seconde symétrie a pour équation: x, y, z -> x-y, x, z+1/2 .\n",
    "\n",
    "Cela a pour effet de changer les coordonnées de l'atome numéro 2 de ses coordonnées de bases (0.66667, 0.33333, 0.83333) à de nouvelles coordonnées \n",
    "(0.33333, 0.66667, 1.33333).\n",
    "\n",
    "L'atome est  renvoyé dans la maille par translation à l'atome équivalent, le numéro 4.\n",
    "\n",
    "Cette symétrie est une rotation hélicoïdale 6_3 d'axe c, c'est à dire que l'atome 2 subit une rotation de pi/3 autour de l'axe défini par c (0,0,1) dans le sens anti-horlogique, et une translation de 1/2 c dans la direction z positive."
   ]
  },
  {
   "cell_type": "code",
   "execution_count": 89,
   "id": "excellent-drove",
   "metadata": {},
   "outputs": [],
   "source": [
    "view.script('draw symop 8 {atomno=3}')"
   ]
  },
  {
   "cell_type": "markdown",
   "id": "cordless-morris",
   "metadata": {},
   "source": [
    "la troisième symétrie a pour équation: x, y, z -> x, y, -z+1/2\n",
    "\n",
    "Cela a pour effet de changer les coordonnées de l'atome numéro 3 de ses coordonnées de bases (0.66667, 0.33333, 0.66667)  en de nouvelles coordonnées (0.66667, 0.33333, -0.16667).\n",
    "\n",
    "L'atome est renvoyé dans la maille par translation à l'atome numéro 2.\n",
    "\n",
    "Cette symétrie est une refléxion par rapport au plan (0,0,4)."
   ]
  }
 ],
 "metadata": {
  "kernelspec": {
   "display_name": "base",
   "language": "python",
   "name": "python3"
  },
  "language_info": {
   "codemirror_mode": {
    "name": "ipython",
    "version": 3
   },
   "file_extension": ".py",
   "mimetype": "text/x-python",
   "name": "python",
   "nbconvert_exporter": "python",
   "pygments_lexer": "ipython3",
   "version": "3.8.5"
  },
  "vscode": {
   "interpreter": {
    "hash": "e38bdacfe1d6e2b7e20a64d2eef782d7715e4314dc541be72f500d3c69b94a4f"
   }
  }
 },
 "nbformat": 4,
 "nbformat_minor": 5
}
