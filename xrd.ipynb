{
 "cells": [
  {
   "cell_type": "code",
   "execution_count": 26,
   "id": "adult-cleveland",
   "metadata": {},
   "outputs": [],
   "source": [
    "from pymatgen.ext.matproj import MPRester\n",
    "from pymatgen.analysis.diffraction import xrd"
   ]
  },
  {
   "cell_type": "code",
   "execution_count": 27,
   "id": "engaged-circus",
   "metadata": {},
   "outputs": [
    {
     "data": {
      "application/vnd.jupyter.widget-view+json": {
       "model_id": "1470b244930740e4a2ddc18d25898046",
       "version_major": 2,
       "version_minor": 0
      },
      "text/plain": [
       "Retrieving MaterialsDoc documents:   0%|          | 0/1 [00:00<?, ?it/s]"
      ]
     },
     "metadata": {},
     "output_type": "display_data"
    }
   ],
   "source": [
    "with MPRester(\"ONhmO4iEQzPj6KY6Mtb87H7GfztHM7JU\") as m:\n",
    "    TiNiSn = m.get_structure_by_material_id(\"mp-924130\")"
   ]
  },
  {
   "cell_type": "code",
   "execution_count": 28,
   "id": "graduate-doctor",
   "metadata": {},
   "outputs": [],
   "source": [
    "#Longueur d'onde : λ = 1.54060\n",
    "calculator = xrd.XRDCalculator(1.54060)"
   ]
  },
  {
   "cell_type": "code",
   "execution_count": 30,
   "id": "removable-strategy",
   "metadata": {},
   "outputs": [
    {
     "name": "stdout",
     "output_type": "stream",
     "text": [
      "-------------------------------\n",
      "Pic n° 1 : \n",
      "Intensité :  49.99252886561425 \n",
      " Indices hkl correspondants :  (1, 1, 1)\n",
      "-------------------------------\n",
      "Pic n° 2 : \n",
      "Intensité :  100.0 \n",
      " Indices hkl correspondants :  (1, 0, 0)\n",
      "-------------------------------\n",
      "Pic n° 3 : \n",
      "Intensité :  50.001235590032884 \n",
      " Indices hkl correspondants :  (0, 0, 1)\n",
      "-------------------------------\n"
     ]
    }
   ],
   "source": [
    "print(\"-------------------------------\")\n",
    "for i in range(3) : \n",
    "    print(\"Pic n° {} : \".format(i+1))\n",
    "    print(\"Intensité : \", calculator.get_pattern(TiNiSn).y[i],\"\\n Indices hkl correspondants : \", calculator.get_pattern(TiNiSn).hkls[i][0]['hkl'])\n",
    "    print(\"-------------------------------\")"
   ]
  }
 ],
 "metadata": {
  "kernelspec": {
   "display_name": "Python 3",
   "language": "python",
   "name": "python3"
  },
  "language_info": {
   "codemirror_mode": {
    "name": "ipython",
    "version": 3
   },
   "file_extension": ".py",
   "mimetype": "text/x-python",
   "name": "python",
   "nbconvert_exporter": "python",
   "pygments_lexer": "ipython3",
   "version": "3.11.1"
  },
  "vscode": {
   "interpreter": {
    "hash": "aee8b7b246df8f9039afb4144a1f6fd8d2ca17a180786b69acc140d282b71a49"
   }
  }
 },
 "nbformat": 4,
 "nbformat_minor": 5
}
