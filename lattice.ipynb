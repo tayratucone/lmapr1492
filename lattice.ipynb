{
 "cells": [
  {
   "cell_type": "code",
   "execution_count": 12,
   "id": "lonely-corruption",
   "metadata": {},
   "outputs": [
    {
     "name": "stderr",
     "output_type": "stream",
     "text": [
      "/Library/Frameworks/Python.framework/Versions/3.11/lib/python3.11/site-packages/mp_api/client/mprester.py:146: UserWarning: mpcontribs-client not installed. Install the package to query MPContribs data, or construct pourbaix diagrams: 'pip install mpcontribs-client'\n",
      "  warnings.warn(\n",
      "Retrieving MaterialsDoc documents: 100%|██████████| 1/1 [00:00<00:00, 10205.12it/s]"
     ]
    },
    {
     "name": "stdout",
     "output_type": "stream",
     "text": [
      "Formule chimique : TiNiSn\n",
      "\n"
     ]
    },
    {
     "name": "stderr",
     "output_type": "stream",
     "text": [
      "\n"
     ]
    }
   ],
   "source": [
    "from pymatgen.ext.matproj import MPRester\n",
    "from pymatgen.core.lattice import Lattice as L\n",
    "from pymatgen.symmetry.analyzer import SpacegroupAnalyzer\n",
    "\n",
    "with MPRester(\"ONhmO4iEQzPj6KY6Mtb87H7GfztHM7JU\") as m:\n",
    "\n",
    "    # Structure for material id\n",
    "    TiNiSn = m.get_structure_by_material_id(\"mp-924130\")\n",
    "print(\"Formule chimique : TiNiSn\\n\")"
   ]
  },
  {
   "cell_type": "code",
   "execution_count": 13,
   "id": "complete-classification",
   "metadata": {},
   "outputs": [
    {
     "name": "stdout",
     "output_type": "stream",
     "text": [
      "Les 3 vecteurs de base du réseau direct sont: \n",
      "3.617208 -0.000001 2.088415\n",
      "1.205742 3.410342 2.088423\n",
      "-0.000000 0.000015 4.176803\n",
      "----------\n",
      "Les 3 vecteurs de base du réseau réciproque sont : \n",
      "1.737025 -0.614134 0.000002\n",
      "0.000005 1.842394 -0.000007\n",
      "-0.868520 -0.614137 1.504307\n",
      "----------\n",
      "La maille est de type :  cubic\n",
      "----------\n",
      "Le réseau cristallin est :  cubic\n",
      "----------\n",
      "Le groupe ponctuel est :  -43m\n"
     ]
    }
   ],
   "source": [
    "print(\"Les 3 vecteurs de base du réseau direct sont: \")\n",
    "print(TiNiSn.lattice)\n",
    "print(\"----------\")\n",
    "print(\"Les 3 vecteurs de base du réseau réciproque sont : \")\n",
    "print(TiNiSn.lattice.reciprocal_lattice)\n",
    "print(\"----------\")\n",
    "print(\"La maille est de type : \",SpacegroupAnalyzer(TiNiSn).get_lattice_type())\n",
    "print(\"----------\")\n",
    "print(\"Le réseau cristallin est : \",SpacegroupAnalyzer(TiNiSn).get_crystal_system())\n",
    "print(\"----------\")\n",
    "print(\"Le groupe ponctuel est : \",SpacegroupAnalyzer(TiNiSn).get_point_group_symbol())"
   ]
  }
 ],
 "metadata": {
  "kernelspec": {
   "display_name": "Python 3",
   "language": "python",
   "name": "python3"
  },
  "language_info": {
   "codemirror_mode": {
    "name": "ipython",
    "version": 3
   },
   "file_extension": ".py",
   "mimetype": "text/x-python",
   "name": "python",
   "nbconvert_exporter": "python",
   "pygments_lexer": "ipython3",
   "version": "3.11.1"
  },
  "vscode": {
   "interpreter": {
    "hash": "aee8b7b246df8f9039afb4144a1f6fd8d2ca17a180786b69acc140d282b71a49"
   }
  }
 },
 "nbformat": 4,
 "nbformat_minor": 5
}
